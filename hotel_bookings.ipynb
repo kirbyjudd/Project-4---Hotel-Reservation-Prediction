{
 "cells": [
  {
   "cell_type": "code",
   "execution_count": 1,
   "metadata": {},
   "outputs": [],
   "source": [
    "# Imports\n",
    "import pandas as pd\n",
    "import matplotlib.pyplot as plt\n",
    "import sqlalchemy\n",
    "import psycopg2\n",
    "from config import postgress_pass\n",
    "from sqlalchemy.ext.automap import automap_base\n",
    "from sqlalchemy.orm import Session\n",
    "from sqlalchemy import create_engine\n",
    "from sklearn import tree\n",
    "from sklearn.linear_model import LogisticRegression\n",
    "from sklearn.ensemble import RandomForestClassifier\n",
    "from sklearn.preprocessing import StandardScaler\n",
    "from sklearn.model_selection import train_test_split\n",
    "from sklearn.metrics import confusion_matrix, accuracy_score, classification_report, precision_score, recall_score, f1_score"
   ]
  },
  {
   "cell_type": "code",
   "execution_count": 2,
   "metadata": {},
   "outputs": [],
   "source": [
    "# Conection string for database\n",
    "engine = create_engine(\"postgresql+psycopg2://postgres:\" + postgress_pass + \"@localhost:5432/hotel_bookings_db\")\n",
    "# Reflect the existing database into a new model\n",
    "Base = automap_base()\n",
    "# Reflect the tables\n",
    "Base.prepare(autoload_with=engine)\n",
    "session = Session(engine)"
   ]
  },
  {
   "cell_type": "code",
   "execution_count": 3,
   "metadata": {},
   "outputs": [
    {
     "data": {
      "text/plain": [
       "[(1, 0, 342, 2015, 7, 27, 1, 0, 0, 2, 0, 0, 0, 136, 3, 1, 0, 0, 0, 2, 2, 0, 3, 0, None, 0, 2, 0.0, 0, 0, 1),\n",
       " (1, 0, 737, 2015, 7, 27, 1, 0, 0, 2, 0, 0, 0, 136, 3, 1, 0, 0, 0, 2, 2, 0, 4, 0, None, 0, 2, 0.0, 0, 0, 1),\n",
       " (1, 0, 7, 2015, 7, 27, 1, 0, 1, 1, 0, 0, 0, 59, 3, 1, 0, 0, 0, 0, 2, 1, 0, 0, None, 0, 2, 75.0, 0, 0, 0),\n",
       " (1, 0, 13, 2015, 7, 27, 1, 0, 1, 1, 0, 0, 0, 59, 2, 0, 0, 0, 0, 0, 0, 0, 0, 0, 304, 0, 2, 75.0, 0, 0, 0),\n",
       " (1, 0, 14, 2015, 7, 27, 1, 0, 2, 2, 0, 0, 0, 59, 6, 3, 0, 0, 0, 0, 0, 0, 0, 0, 240, 0, 2, 98.0, 0, 1, 0)]"
      ]
     },
     "execution_count": 3,
     "metadata": {},
     "output_type": "execute_result"
    }
   ],
   "source": [
    "# Validating database connection\n",
    "engine.execute('SELECT * FROM hotel_bookings LIMIT 5').fetchall()"
   ]
  },
  {
   "cell_type": "code",
   "execution_count": 4,
   "metadata": {},
   "outputs": [
    {
     "data": {
      "text/html": [
       "<div>\n",
       "<style scoped>\n",
       "    .dataframe tbody tr th:only-of-type {\n",
       "        vertical-align: middle;\n",
       "    }\n",
       "\n",
       "    .dataframe tbody tr th {\n",
       "        vertical-align: top;\n",
       "    }\n",
       "\n",
       "    .dataframe thead th {\n",
       "        text-align: right;\n",
       "    }\n",
       "</style>\n",
       "<table border=\"1\" class=\"dataframe\">\n",
       "  <thead>\n",
       "    <tr style=\"text-align: right;\">\n",
       "      <th></th>\n",
       "      <th>hotel</th>\n",
       "      <th>is_canceled</th>\n",
       "      <th>lead_time</th>\n",
       "      <th>arrival_date_year</th>\n",
       "      <th>arrival_date_month</th>\n",
       "      <th>arrival_date_week_number</th>\n",
       "      <th>arrival_date_day_of_month</th>\n",
       "      <th>stays_in_weekend_nights</th>\n",
       "      <th>stays_in_week_nights</th>\n",
       "      <th>adults</th>\n",
       "      <th>...</th>\n",
       "      <th>room_type_fulfilled</th>\n",
       "      <th>booking_changes</th>\n",
       "      <th>deposit_type</th>\n",
       "      <th>agent</th>\n",
       "      <th>days_in_waiting_list</th>\n",
       "      <th>customer_type</th>\n",
       "      <th>adr</th>\n",
       "      <th>required_car_parking_spaces</th>\n",
       "      <th>total_of_special_requests</th>\n",
       "      <th>international</th>\n",
       "    </tr>\n",
       "  </thead>\n",
       "  <tbody>\n",
       "    <tr>\n",
       "      <th>0</th>\n",
       "      <td>1</td>\n",
       "      <td>0</td>\n",
       "      <td>342</td>\n",
       "      <td>2015</td>\n",
       "      <td>7</td>\n",
       "      <td>27</td>\n",
       "      <td>1</td>\n",
       "      <td>0</td>\n",
       "      <td>0</td>\n",
       "      <td>2</td>\n",
       "      <td>...</td>\n",
       "      <td>0</td>\n",
       "      <td>3</td>\n",
       "      <td>0</td>\n",
       "      <td>NaN</td>\n",
       "      <td>0</td>\n",
       "      <td>2</td>\n",
       "      <td>0.0</td>\n",
       "      <td>0</td>\n",
       "      <td>0</td>\n",
       "      <td>1</td>\n",
       "    </tr>\n",
       "    <tr>\n",
       "      <th>1</th>\n",
       "      <td>1</td>\n",
       "      <td>0</td>\n",
       "      <td>737</td>\n",
       "      <td>2015</td>\n",
       "      <td>7</td>\n",
       "      <td>27</td>\n",
       "      <td>1</td>\n",
       "      <td>0</td>\n",
       "      <td>0</td>\n",
       "      <td>2</td>\n",
       "      <td>...</td>\n",
       "      <td>0</td>\n",
       "      <td>4</td>\n",
       "      <td>0</td>\n",
       "      <td>NaN</td>\n",
       "      <td>0</td>\n",
       "      <td>2</td>\n",
       "      <td>0.0</td>\n",
       "      <td>0</td>\n",
       "      <td>0</td>\n",
       "      <td>1</td>\n",
       "    </tr>\n",
       "    <tr>\n",
       "      <th>2</th>\n",
       "      <td>1</td>\n",
       "      <td>0</td>\n",
       "      <td>7</td>\n",
       "      <td>2015</td>\n",
       "      <td>7</td>\n",
       "      <td>27</td>\n",
       "      <td>1</td>\n",
       "      <td>0</td>\n",
       "      <td>1</td>\n",
       "      <td>1</td>\n",
       "      <td>...</td>\n",
       "      <td>1</td>\n",
       "      <td>0</td>\n",
       "      <td>0</td>\n",
       "      <td>NaN</td>\n",
       "      <td>0</td>\n",
       "      <td>2</td>\n",
       "      <td>75.0</td>\n",
       "      <td>0</td>\n",
       "      <td>0</td>\n",
       "      <td>0</td>\n",
       "    </tr>\n",
       "    <tr>\n",
       "      <th>3</th>\n",
       "      <td>1</td>\n",
       "      <td>0</td>\n",
       "      <td>13</td>\n",
       "      <td>2015</td>\n",
       "      <td>7</td>\n",
       "      <td>27</td>\n",
       "      <td>1</td>\n",
       "      <td>0</td>\n",
       "      <td>1</td>\n",
       "      <td>1</td>\n",
       "      <td>...</td>\n",
       "      <td>0</td>\n",
       "      <td>0</td>\n",
       "      <td>0</td>\n",
       "      <td>304.0</td>\n",
       "      <td>0</td>\n",
       "      <td>2</td>\n",
       "      <td>75.0</td>\n",
       "      <td>0</td>\n",
       "      <td>0</td>\n",
       "      <td>0</td>\n",
       "    </tr>\n",
       "    <tr>\n",
       "      <th>4</th>\n",
       "      <td>1</td>\n",
       "      <td>0</td>\n",
       "      <td>14</td>\n",
       "      <td>2015</td>\n",
       "      <td>7</td>\n",
       "      <td>27</td>\n",
       "      <td>1</td>\n",
       "      <td>0</td>\n",
       "      <td>2</td>\n",
       "      <td>2</td>\n",
       "      <td>...</td>\n",
       "      <td>0</td>\n",
       "      <td>0</td>\n",
       "      <td>0</td>\n",
       "      <td>240.0</td>\n",
       "      <td>0</td>\n",
       "      <td>2</td>\n",
       "      <td>98.0</td>\n",
       "      <td>0</td>\n",
       "      <td>1</td>\n",
       "      <td>0</td>\n",
       "    </tr>\n",
       "  </tbody>\n",
       "</table>\n",
       "<p>5 rows × 31 columns</p>\n",
       "</div>"
      ],
      "text/plain": [
       "   hotel  is_canceled  lead_time  arrival_date_year  arrival_date_month  \\\n",
       "0      1            0        342               2015                   7   \n",
       "1      1            0        737               2015                   7   \n",
       "2      1            0          7               2015                   7   \n",
       "3      1            0         13               2015                   7   \n",
       "4      1            0         14               2015                   7   \n",
       "\n",
       "   arrival_date_week_number  arrival_date_day_of_month  \\\n",
       "0                        27                          1   \n",
       "1                        27                          1   \n",
       "2                        27                          1   \n",
       "3                        27                          1   \n",
       "4                        27                          1   \n",
       "\n",
       "   stays_in_weekend_nights  stays_in_week_nights  adults  ...  \\\n",
       "0                        0                     0       2  ...   \n",
       "1                        0                     0       2  ...   \n",
       "2                        0                     1       1  ...   \n",
       "3                        0                     1       1  ...   \n",
       "4                        0                     2       2  ...   \n",
       "\n",
       "   room_type_fulfilled  booking_changes  deposit_type  agent  \\\n",
       "0                    0                3             0    NaN   \n",
       "1                    0                4             0    NaN   \n",
       "2                    1                0             0    NaN   \n",
       "3                    0                0             0  304.0   \n",
       "4                    0                0             0  240.0   \n",
       "\n",
       "   days_in_waiting_list  customer_type   adr  required_car_parking_spaces  \\\n",
       "0                     0              2   0.0                            0   \n",
       "1                     0              2   0.0                            0   \n",
       "2                     0              2  75.0                            0   \n",
       "3                     0              2  75.0                            0   \n",
       "4                     0              2  98.0                            0   \n",
       "\n",
       "   total_of_special_requests  international  \n",
       "0                          0              1  \n",
       "1                          0              1  \n",
       "2                          0              0  \n",
       "3                          0              0  \n",
       "4                          1              0  \n",
       "\n",
       "[5 rows x 31 columns]"
      ]
     },
     "execution_count": 4,
     "metadata": {},
     "output_type": "execute_result"
    }
   ],
   "source": [
    "# Create data frame from database data\n",
    "bookings_query = 'SELECT * FROM hotel_bookings'\n",
    "bookings_df = pd.read_sql_query(bookings_query, engine)\n",
    "bookings_df.head()"
   ]
  },
  {
   "cell_type": "code",
   "execution_count": 5,
   "metadata": {},
   "outputs": [],
   "source": [
    "# Drop Nulls\n",
    "bookings_df = bookings_df.dropna(how='any')"
   ]
  },
  {
   "cell_type": "code",
   "execution_count": 7,
   "metadata": {},
   "outputs": [
    {
     "data": {
      "text/html": [
       "<div>\n",
       "<style scoped>\n",
       "    .dataframe tbody tr th:only-of-type {\n",
       "        vertical-align: middle;\n",
       "    }\n",
       "\n",
       "    .dataframe tbody tr th {\n",
       "        vertical-align: top;\n",
       "    }\n",
       "\n",
       "    .dataframe thead th {\n",
       "        text-align: right;\n",
       "    }\n",
       "</style>\n",
       "<table border=\"1\" class=\"dataframe\">\n",
       "  <thead>\n",
       "    <tr style=\"text-align: right;\">\n",
       "      <th></th>\n",
       "      <th>hotel</th>\n",
       "      <th>is_canceled</th>\n",
       "      <th>lead_time</th>\n",
       "      <th>arrival_date_year</th>\n",
       "      <th>arrival_date_month</th>\n",
       "      <th>arrival_date_week_number</th>\n",
       "      <th>arrival_date_day_of_month</th>\n",
       "      <th>stays_in_weekend_nights</th>\n",
       "      <th>stays_in_week_nights</th>\n",
       "      <th>adults</th>\n",
       "      <th>...</th>\n",
       "      <th>room_type_fulfilled</th>\n",
       "      <th>booking_changes</th>\n",
       "      <th>deposit_type</th>\n",
       "      <th>agent</th>\n",
       "      <th>days_in_waiting_list</th>\n",
       "      <th>customer_type</th>\n",
       "      <th>adr</th>\n",
       "      <th>required_car_parking_spaces</th>\n",
       "      <th>total_of_special_requests</th>\n",
       "      <th>international</th>\n",
       "    </tr>\n",
       "  </thead>\n",
       "  <tbody>\n",
       "    <tr>\n",
       "      <th>count</th>\n",
       "      <td>103050.000000</td>\n",
       "      <td>103050.000000</td>\n",
       "      <td>103050.000000</td>\n",
       "      <td>103050.000000</td>\n",
       "      <td>103050.000000</td>\n",
       "      <td>103050.000000</td>\n",
       "      <td>103050.000000</td>\n",
       "      <td>103050.000000</td>\n",
       "      <td>103050.000000</td>\n",
       "      <td>103050.000000</td>\n",
       "      <td>...</td>\n",
       "      <td>103050.000000</td>\n",
       "      <td>103050.000000</td>\n",
       "      <td>103050.000000</td>\n",
       "      <td>103050.000000</td>\n",
       "      <td>103050.000000</td>\n",
       "      <td>103050.000000</td>\n",
       "      <td>103050.000000</td>\n",
       "      <td>103050.000000</td>\n",
       "      <td>103050.000000</td>\n",
       "      <td>103050.000000</td>\n",
       "    </tr>\n",
       "    <tr>\n",
       "      <th>mean</th>\n",
       "      <td>0.309083</td>\n",
       "      <td>0.390044</td>\n",
       "      <td>111.672256</td>\n",
       "      <td>2016.156487</td>\n",
       "      <td>6.594304</td>\n",
       "      <td>27.339427</td>\n",
       "      <td>15.784066</td>\n",
       "      <td>0.977875</td>\n",
       "      <td>2.589355</td>\n",
       "      <td>1.899466</td>\n",
       "      <td>...</td>\n",
       "      <td>0.109413</td>\n",
       "      <td>0.201698</td>\n",
       "      <td>0.122581</td>\n",
       "      <td>86.693382</td>\n",
       "      <td>2.615614</td>\n",
       "      <td>2.116652</td>\n",
       "      <td>104.618808</td>\n",
       "      <td>0.053217</td>\n",
       "      <td>0.605376</td>\n",
       "      <td>0.364803</td>\n",
       "    </tr>\n",
       "    <tr>\n",
       "      <th>std</th>\n",
       "      <td>0.462118</td>\n",
       "      <td>0.487762</td>\n",
       "      <td>107.671497</td>\n",
       "      <td>0.706228</td>\n",
       "      <td>3.020402</td>\n",
       "      <td>13.285191</td>\n",
       "      <td>8.793996</td>\n",
       "      <td>1.003935</td>\n",
       "      <td>1.905760</td>\n",
       "      <td>0.491053</td>\n",
       "      <td>...</td>\n",
       "      <td>0.312158</td>\n",
       "      <td>0.624792</td>\n",
       "      <td>0.329375</td>\n",
       "      <td>110.774548</td>\n",
       "      <td>18.783482</td>\n",
       "      <td>0.590669</td>\n",
       "      <td>50.034464</td>\n",
       "      <td>0.225717</td>\n",
       "      <td>0.799216</td>\n",
       "      <td>0.481377</td>\n",
       "    </tr>\n",
       "    <tr>\n",
       "      <th>min</th>\n",
       "      <td>0.000000</td>\n",
       "      <td>0.000000</td>\n",
       "      <td>0.000000</td>\n",
       "      <td>2015.000000</td>\n",
       "      <td>1.000000</td>\n",
       "      <td>1.000000</td>\n",
       "      <td>1.000000</td>\n",
       "      <td>0.000000</td>\n",
       "      <td>0.000000</td>\n",
       "      <td>0.000000</td>\n",
       "      <td>...</td>\n",
       "      <td>0.000000</td>\n",
       "      <td>0.000000</td>\n",
       "      <td>0.000000</td>\n",
       "      <td>1.000000</td>\n",
       "      <td>0.000000</td>\n",
       "      <td>0.000000</td>\n",
       "      <td>-6.380000</td>\n",
       "      <td>0.000000</td>\n",
       "      <td>0.000000</td>\n",
       "      <td>0.000000</td>\n",
       "    </tr>\n",
       "    <tr>\n",
       "      <th>25%</th>\n",
       "      <td>0.000000</td>\n",
       "      <td>0.000000</td>\n",
       "      <td>26.000000</td>\n",
       "      <td>2016.000000</td>\n",
       "      <td>4.000000</td>\n",
       "      <td>17.000000</td>\n",
       "      <td>8.000000</td>\n",
       "      <td>0.000000</td>\n",
       "      <td>1.000000</td>\n",
       "      <td>2.000000</td>\n",
       "      <td>...</td>\n",
       "      <td>0.000000</td>\n",
       "      <td>0.000000</td>\n",
       "      <td>0.000000</td>\n",
       "      <td>9.000000</td>\n",
       "      <td>0.000000</td>\n",
       "      <td>2.000000</td>\n",
       "      <td>72.800000</td>\n",
       "      <td>0.000000</td>\n",
       "      <td>0.000000</td>\n",
       "      <td>0.000000</td>\n",
       "    </tr>\n",
       "    <tr>\n",
       "      <th>50%</th>\n",
       "      <td>0.000000</td>\n",
       "      <td>0.000000</td>\n",
       "      <td>79.000000</td>\n",
       "      <td>2016.000000</td>\n",
       "      <td>7.000000</td>\n",
       "      <td>28.000000</td>\n",
       "      <td>16.000000</td>\n",
       "      <td>1.000000</td>\n",
       "      <td>2.000000</td>\n",
       "      <td>2.000000</td>\n",
       "      <td>...</td>\n",
       "      <td>0.000000</td>\n",
       "      <td>0.000000</td>\n",
       "      <td>0.000000</td>\n",
       "      <td>14.000000</td>\n",
       "      <td>0.000000</td>\n",
       "      <td>2.000000</td>\n",
       "      <td>96.300000</td>\n",
       "      <td>0.000000</td>\n",
       "      <td>0.000000</td>\n",
       "      <td>0.000000</td>\n",
       "    </tr>\n",
       "    <tr>\n",
       "      <th>75%</th>\n",
       "      <td>1.000000</td>\n",
       "      <td>1.000000</td>\n",
       "      <td>169.000000</td>\n",
       "      <td>2017.000000</td>\n",
       "      <td>9.000000</td>\n",
       "      <td>38.000000</td>\n",
       "      <td>24.000000</td>\n",
       "      <td>2.000000</td>\n",
       "      <td>3.000000</td>\n",
       "      <td>2.000000</td>\n",
       "      <td>...</td>\n",
       "      <td>0.000000</td>\n",
       "      <td>0.000000</td>\n",
       "      <td>0.000000</td>\n",
       "      <td>229.000000</td>\n",
       "      <td>0.000000</td>\n",
       "      <td>2.000000</td>\n",
       "      <td>127.800000</td>\n",
       "      <td>0.000000</td>\n",
       "      <td>1.000000</td>\n",
       "      <td>1.000000</td>\n",
       "    </tr>\n",
       "    <tr>\n",
       "      <th>max</th>\n",
       "      <td>1.000000</td>\n",
       "      <td>1.000000</td>\n",
       "      <td>629.000000</td>\n",
       "      <td>2017.000000</td>\n",
       "      <td>12.000000</td>\n",
       "      <td>53.000000</td>\n",
       "      <td>31.000000</td>\n",
       "      <td>16.000000</td>\n",
       "      <td>41.000000</td>\n",
       "      <td>26.000000</td>\n",
       "      <td>...</td>\n",
       "      <td>1.000000</td>\n",
       "      <td>18.000000</td>\n",
       "      <td>2.000000</td>\n",
       "      <td>535.000000</td>\n",
       "      <td>391.000000</td>\n",
       "      <td>3.000000</td>\n",
       "      <td>5400.000000</td>\n",
       "      <td>3.000000</td>\n",
       "      <td>5.000000</td>\n",
       "      <td>1.000000</td>\n",
       "    </tr>\n",
       "  </tbody>\n",
       "</table>\n",
       "<p>8 rows × 31 columns</p>\n",
       "</div>"
      ],
      "text/plain": [
       "               hotel    is_canceled      lead_time  arrival_date_year  \\\n",
       "count  103050.000000  103050.000000  103050.000000      103050.000000   \n",
       "mean        0.309083       0.390044     111.672256        2016.156487   \n",
       "std         0.462118       0.487762     107.671497           0.706228   \n",
       "min         0.000000       0.000000       0.000000        2015.000000   \n",
       "25%         0.000000       0.000000      26.000000        2016.000000   \n",
       "50%         0.000000       0.000000      79.000000        2016.000000   \n",
       "75%         1.000000       1.000000     169.000000        2017.000000   \n",
       "max         1.000000       1.000000     629.000000        2017.000000   \n",
       "\n",
       "       arrival_date_month  arrival_date_week_number  \\\n",
       "count       103050.000000             103050.000000   \n",
       "mean             6.594304                 27.339427   \n",
       "std              3.020402                 13.285191   \n",
       "min              1.000000                  1.000000   \n",
       "25%              4.000000                 17.000000   \n",
       "50%              7.000000                 28.000000   \n",
       "75%              9.000000                 38.000000   \n",
       "max             12.000000                 53.000000   \n",
       "\n",
       "       arrival_date_day_of_month  stays_in_weekend_nights  \\\n",
       "count              103050.000000            103050.000000   \n",
       "mean                   15.784066                 0.977875   \n",
       "std                     8.793996                 1.003935   \n",
       "min                     1.000000                 0.000000   \n",
       "25%                     8.000000                 0.000000   \n",
       "50%                    16.000000                 1.000000   \n",
       "75%                    24.000000                 2.000000   \n",
       "max                    31.000000                16.000000   \n",
       "\n",
       "       stays_in_week_nights         adults  ...  room_type_fulfilled  \\\n",
       "count         103050.000000  103050.000000  ...        103050.000000   \n",
       "mean               2.589355       1.899466  ...             0.109413   \n",
       "std                1.905760       0.491053  ...             0.312158   \n",
       "min                0.000000       0.000000  ...             0.000000   \n",
       "25%                1.000000       2.000000  ...             0.000000   \n",
       "50%                2.000000       2.000000  ...             0.000000   \n",
       "75%                3.000000       2.000000  ...             0.000000   \n",
       "max               41.000000      26.000000  ...             1.000000   \n",
       "\n",
       "       booking_changes   deposit_type          agent  days_in_waiting_list  \\\n",
       "count    103050.000000  103050.000000  103050.000000         103050.000000   \n",
       "mean          0.201698       0.122581      86.693382              2.615614   \n",
       "std           0.624792       0.329375     110.774548             18.783482   \n",
       "min           0.000000       0.000000       1.000000              0.000000   \n",
       "25%           0.000000       0.000000       9.000000              0.000000   \n",
       "50%           0.000000       0.000000      14.000000              0.000000   \n",
       "75%           0.000000       0.000000     229.000000              0.000000   \n",
       "max          18.000000       2.000000     535.000000            391.000000   \n",
       "\n",
       "       customer_type            adr  required_car_parking_spaces  \\\n",
       "count  103050.000000  103050.000000                103050.000000   \n",
       "mean        2.116652     104.618808                     0.053217   \n",
       "std         0.590669      50.034464                     0.225717   \n",
       "min         0.000000      -6.380000                     0.000000   \n",
       "25%         2.000000      72.800000                     0.000000   \n",
       "50%         2.000000      96.300000                     0.000000   \n",
       "75%         2.000000     127.800000                     0.000000   \n",
       "max         3.000000    5400.000000                     3.000000   \n",
       "\n",
       "       total_of_special_requests  international  \n",
       "count              103050.000000  103050.000000  \n",
       "mean                    0.605376       0.364803  \n",
       "std                     0.799216       0.481377  \n",
       "min                     0.000000       0.000000  \n",
       "25%                     0.000000       0.000000  \n",
       "50%                     0.000000       0.000000  \n",
       "75%                     1.000000       1.000000  \n",
       "max                     5.000000       1.000000  \n",
       "\n",
       "[8 rows x 31 columns]"
      ]
     },
     "execution_count": 7,
     "metadata": {},
     "output_type": "execute_result"
    }
   ],
   "source": [
    "# Describe data frame\n",
    "bookings_df.describe()"
   ]
  },
  {
   "cell_type": "markdown",
   "metadata": {},
   "source": [
    "## Are there more cancellations during specific months?"
   ]
  },
  {
   "cell_type": "code",
   "execution_count": 8,
   "metadata": {},
   "outputs": [
    {
     "data": {
      "image/png": "[encoded data removed]",
      "text/plain": [
       "<Figure size 1000x600 with 1 Axes>"
      ]
     },
     "metadata": {},
     "output_type": "display_data"
    }
   ],
   "source": [
    "# Group the data by 'arrival_date_month' and count the number of cancellations in each month.\n",
    "cancellations_by_month = bookings_df[bookings_df['is_canceled'] == 1].groupby('arrival_date_month').size()\n",
    "\n",
    "# Create a bar plot to visualize the number of cancellations for each month.\n",
    "plt.figure(figsize=(10, 6))\n",
    "cancellations_by_month.plot(kind='bar', color='#FFC0CB')\n",
    "plt.xlabel('Month')\n",
    "plt.ylabel('Number of Cancellations')\n",
    "plt.title('Number of Cancellations During Specific Months')\n",
    "plt.xticks(rotation=0)\n",
    "plt.show()"
   ]
  },
  {
   "cell_type": "markdown",
   "metadata": {},
   "source": [
    "## Does customer type contribute to cancellations? "
   ]
  },
  {
   "cell_type": "code",
   "execution_count": 9,
   "metadata": {},
   "outputs": [
    {
     "data": {
      "image/png": "[encoded data removed]",
      "text/plain": [
       "<Figure size 800x500 with 1 Axes>"
      ]
     },
     "metadata": {},
     "output_type": "display_data"
    }
   ],
   "source": [
    "# Create a cross-tabulation between 'customer_type' and 'is_canceled' to get the count of cancellations for each customer type.\n",
    "customer_type_cancellations = pd.crosstab(bookings_df['customer_type'], bookings_df['is_canceled'])\n",
    "\n",
    "# Calculate the proportion of cancellations\n",
    "customer_type_proportions = customer_type_cancellations.div(customer_type_cancellations.sum(axis=1), axis=0)\n",
    "\n",
    "# Stacked bar plot\n",
    "customer_type_proportions.plot(kind='bar', stacked=True, figsize=(8, 5))\n",
    "plt.xlabel('Customer Type')\n",
    "plt.ylabel('Proportion of Cancellations')\n",
    "plt.title('Proportion of Cancellations by Customer Type')\n",
    "plt.legend(title='Cancellation', loc='upper right', labels=['Not Canceled', 'Canceled'])\n",
    "plt.xticks([0, 1, 2, 3], ['Contract', 'Group', 'Transient', 'Transient-Party'], rotation=0)\n",
    "plt.show()"
   ]
  },
  {
   "cell_type": "markdown",
   "metadata": {},
   "source": [
    "## Does a specific country contribute to more or less cancellations?"
   ]
  },
  {
   "cell_type": "code",
   "execution_count": 10,
   "metadata": {},
   "outputs": [
    {
     "data": {
      "image/png": "[encoded data removed]",
      "text/plain": [
       "<Figure size 800x500 with 1 Axes>"
      ]
     },
     "metadata": {},
     "output_type": "display_data"
    }
   ],
   "source": [
    "# 0- International, 1- Not international\n",
    "\n",
    "# Group the data by 'international' and calculate the total number of bookings and cancellations.\n",
    "country_counts = bookings_df.groupby('international')['is_canceled'].agg(['count', 'sum'])\n",
    "\n",
    "# Calculate the cancellation rate.\n",
    "country_counts['cancellation_rate'] = country_counts['sum'] / country_counts['count']\n",
    "\n",
    "# Bar plot for cancellation rate by country\n",
    "plt.figure(figsize=(8, 5))\n",
    "country_counts['cancellation_rate'].plot(kind='bar', color='powderblue')\n",
    "plt.xlabel('Country')\n",
    "plt.ylabel('Cancellation Rate')\n",
    "plt.title('Cancellation Rate by Country')\n",
    "plt.xticks(rotation=0)\n",
    "plt.show()"
   ]
  },
  {
   "cell_type": "markdown",
   "metadata": {},
   "source": [
    "## Do different deposit types affect cancellations?"
   ]
  },
  {
   "cell_type": "code",
   "execution_count": 11,
   "metadata": {},
   "outputs": [
    {
     "data": {
      "image/png": "[encoded data removed]",
      "text/plain": [
       "<Figure size 800x500 with 1 Axes>"
      ]
     },
     "metadata": {},
     "output_type": "display_data"
    }
   ],
   "source": [
    "# 0- No Deposit, 1-Non-Refundable, 2-Refundable\n",
    "\n",
    "# Group the data by 'deposit_type' and calculate the total number of bookings and cancellations for each deposit plan.\n",
    "deposit_counts = bookings_df.groupby('deposit_type')['is_canceled'].agg(['count', 'sum'])\n",
    "\n",
    "# Calculate the cancellation rate.\n",
    "deposit_counts['cancellation_rate'] = deposit_counts['sum'] / deposit_counts['count']\n",
    "\n",
    "# Sort the data by cancellation rate in descending order to highlight the meal plans with higher cancellation rates.\n",
    "deposit_counts = deposit_counts.sort_values(by='cancellation_rate', ascending=False)\n",
    "\n",
    "# Grouped bar plot for cancellation rate by meal plan\n",
    "plt.figure(figsize=(8, 5))\n",
    "deposit_counts['cancellation_rate'].plot(kind='bar', color='steelblue')\n",
    "plt.xlabel('Deposit Type')\n",
    "plt.ylabel('Cancellation Rate')\n",
    "plt.title('Cancellation Rate by Deposit Type')\n",
    "plt.xticks( rotation=0)\n",
    "plt.show()"
   ]
  },
  {
   "cell_type": "markdown",
   "metadata": {},
   "source": [
    "## Does lead time affect cancellations?"
   ]
  },
  {
   "cell_type": "code",
   "execution_count": 12,
   "metadata": {},
   "outputs": [
    {
     "data": {
      "image/png": "[encoded data removed]",
      "text/plain": [
       "<Figure size 800x500 with 1 Axes>"
      ]
     },
     "metadata": {},
     "output_type": "display_data"
    }
   ],
   "source": [
    "# Calculate the average lead time for 'Canceled' and 'Not Canceled' bookings\n",
    "average_lead_times = bookings_df.groupby('is_canceled')['lead_time'].mean()\n",
    "\n",
    "# Bar plot that compares the avrage lead time for 1- is cancelled, and 0- not cancelled bookings\n",
    "plt.figure(figsize=(8, 5))\n",
    "average_lead_times.plot(kind='bar', color=['steelblue', 'coral'], width=0.6)\n",
    "plt.ylabel('Average Lead Time')\n",
    "plt.title('Average Lead Time for Canceled and Not Canceled Bookings')\n",
    "plt.xticks([0, 1], ['Not Canceled', 'Canceled'], rotation=0)\n",
    "plt.show()"
   ]
  },
  {
   "cell_type": "markdown",
   "metadata": {},
   "source": [
    "## If a reserved room does not match the assigned room, does that lead to cancellations? "
   ]
  },
  {
   "cell_type": "code",
   "execution_count": 13,
   "metadata": {},
   "outputs": [
    {
     "data": {
      "image/png": "[encoded data removed]",
      "text/plain": [
       "<Figure size 800x500 with 1 Axes>"
      ]
     },
     "metadata": {},
     "output_type": "display_data"
    }
   ],
   "source": [
    "# Create a boolean for bookings where reserved room type is not the same as assigned room type.\n",
    "room_mismatch = bookings_df['reserved_room_type'] != bookings_df['assigned_room_type']\n",
    "\n",
    "# Group the data by 'room_mismatch' and calculate the total number of bookings and cancellations for each case.\n",
    "room_mismatch_counts = bookings_df.groupby(room_mismatch)['is_canceled'].agg(['count', 'sum'])\n",
    "\n",
    "# Calculate the cancellation rate\n",
    "room_mismatch_counts['cancellation_rate'] = room_mismatch_counts['sum'] / room_mismatch_counts['count']\n",
    "\n",
    "# Bar plot\n",
    "plt.figure(figsize=(8, 5))\n",
    "room_mismatch_counts['cancellation_rate'].plot(kind='bar', color='lightcoral')\n",
    "plt.xlabel('Room Mismatch (True: Mismatch, False: Match)')\n",
    "plt.ylabel('Cancellation Rate')\n",
    "plt.title('Cancellation Rate for Room Mismatch')\n",
    "plt.xticks([0, 1], ['Match', 'Mismatch'], rotation=0)\n",
    "plt.show()"
   ]
  },
  {
   "cell_type": "markdown",
   "metadata": {},
   "source": [
    "## Does the price range have any impact on the cancellation rates?"
   ]
  },
  {
   "cell_type": "code",
   "execution_count": 14,
   "metadata": {},
   "outputs": [
    {
     "data": {
      "image/png": "[encoded data removed]",
      "text/plain": [
       "<Figure size 800x500 with 1 Axes>"
      ]
     },
     "metadata": {},
     "output_type": "display_data"
    }
   ],
   "source": [
    "# Calculate the cancellation rate for each price range.\n",
    "booking_df = bookings_df.copy()\n",
    "price_ranges = [0, 50, 100, 150, 200, 250, float('inf')]\n",
    "price_labels = ['< $50', '$50-$100', '$100-$150', '$150-$200', '$200-$250', '> $250']\n",
    "booking_df['price_range'] = pd.cut(booking_df['adr'], bins=price_ranges, labels=price_labels)\n",
    "price_counts = booking_df.groupby('price_range')['is_canceled'].agg(['count', 'sum'])\n",
    "price_counts['cancellation_rate'] = price_counts['sum'] / price_counts['count']\n",
    "plt.figure(figsize=(8, 5))\n",
    "price_counts['cancellation_rate'].plot(kind='bar', color='steelblue')\n",
    "plt.xlabel('Price Range (Average Daily Rate)')\n",
    "plt.ylabel('Cancellation Rate')\n",
    "plt.title('Cancellation Rate by Price Range')\n",
    "plt.xticks(rotation=45, ha='right')\n",
    "plt.show()"
   ]
  },
  {
   "cell_type": "markdown",
   "metadata": {},
   "source": [
    "## Stratifying data"
   ]
  },
  {
   "cell_type": "code",
   "execution_count": 15,
   "metadata": {},
   "outputs": [
    {
     "data": {
      "text/plain": [
       "0    62856\n",
       "1    40194\n",
       "Name: is_canceled, dtype: int64"
      ]
     },
     "execution_count": 15,
     "metadata": {},
     "output_type": "execute_result"
    }
   ],
   "source": [
    "# Get value counts of is_canceled column\n",
    "bookings_df['is_canceled'].value_counts()"
   ]
  },
  {
   "cell_type": "code",
   "execution_count": 16,
   "metadata": {},
   "outputs": [
    {
     "data": {
      "text/html": [
       "<div>\n",
       "<style scoped>\n",
       "    .dataframe tbody tr th:only-of-type {\n",
       "        vertical-align: middle;\n",
       "    }\n",
       "\n",
       "    .dataframe tbody tr th {\n",
       "        vertical-align: top;\n",
       "    }\n",
       "\n",
       "    .dataframe thead th {\n",
       "        text-align: right;\n",
       "    }\n",
       "</style>\n",
       "<table border=\"1\" class=\"dataframe\">\n",
       "  <thead>\n",
       "    <tr style=\"text-align: right;\">\n",
       "      <th></th>\n",
       "      <th>Expected</th>\n",
       "    </tr>\n",
       "  </thead>\n",
       "  <tbody>\n",
       "    <tr>\n",
       "      <th>0</th>\n",
       "      <td>61.0</td>\n",
       "    </tr>\n",
       "    <tr>\n",
       "      <th>1</th>\n",
       "      <td>39.0</td>\n",
       "    </tr>\n",
       "  </tbody>\n",
       "</table>\n",
       "</div>"
      ],
      "text/plain": [
       "   Expected\n",
       "0      61.0\n",
       "1      39.0"
      ]
     },
     "execution_count": 16,
     "metadata": {},
     "output_type": "execute_result"
    }
   ],
   "source": [
    "# Get ratio instead of raw numbers using normalize=True\n",
    "expected_ratio = bookings_df['is_canceled'].value_counts(normalize=True)\n",
    "\n",
    "# Round and then convert to percentage\n",
    "expected_ratio = expected_ratio.round(4)*100\n",
    "\n",
    "# convert to a DataFrame and store in variable 'is_canceled_ratios'\n",
    "is_canceled_ratios = pd.DataFrame({'Expected':expected_ratio})\n",
    "is_canceled_ratios"
   ]
  },
  {
   "cell_type": "code",
   "execution_count": 17,
   "metadata": {},
   "outputs": [
    {
     "data": {
      "text/html": [
       "<div>\n",
       "<style scoped>\n",
       "    .dataframe tbody tr th:only-of-type {\n",
       "        vertical-align: middle;\n",
       "    }\n",
       "\n",
       "    .dataframe tbody tr th {\n",
       "        vertical-align: top;\n",
       "    }\n",
       "\n",
       "    .dataframe thead th {\n",
       "        text-align: right;\n",
       "    }\n",
       "</style>\n",
       "<table border=\"1\" class=\"dataframe\">\n",
       "  <thead>\n",
       "    <tr style=\"text-align: right;\">\n",
       "      <th></th>\n",
       "      <th>hotel</th>\n",
       "      <th>is_canceled</th>\n",
       "      <th>lead_time</th>\n",
       "      <th>arrival_date_year</th>\n",
       "      <th>arrival_date_month</th>\n",
       "      <th>arrival_date_week_number</th>\n",
       "      <th>arrival_date_day_of_month</th>\n",
       "      <th>stays_in_weekend_nights</th>\n",
       "      <th>stays_in_week_nights</th>\n",
       "      <th>adults</th>\n",
       "      <th>...</th>\n",
       "      <th>room_type_fulfilled</th>\n",
       "      <th>booking_changes</th>\n",
       "      <th>deposit_type</th>\n",
       "      <th>agent</th>\n",
       "      <th>days_in_waiting_list</th>\n",
       "      <th>customer_type</th>\n",
       "      <th>adr</th>\n",
       "      <th>required_car_parking_spaces</th>\n",
       "      <th>total_of_special_requests</th>\n",
       "      <th>international</th>\n",
       "    </tr>\n",
       "  </thead>\n",
       "  <tbody>\n",
       "    <tr>\n",
       "      <th>79740</th>\n",
       "      <td>0</td>\n",
       "      <td>0</td>\n",
       "      <td>9</td>\n",
       "      <td>2015</td>\n",
       "      <td>10</td>\n",
       "      <td>44</td>\n",
       "      <td>31</td>\n",
       "      <td>2</td>\n",
       "      <td>1</td>\n",
       "      <td>2</td>\n",
       "      <td>...</td>\n",
       "      <td>0</td>\n",
       "      <td>0</td>\n",
       "      <td>0</td>\n",
       "      <td>9.0</td>\n",
       "      <td>0</td>\n",
       "      <td>0</td>\n",
       "      <td>87.0</td>\n",
       "      <td>0</td>\n",
       "      <td>1</td>\n",
       "      <td>0</td>\n",
       "    </tr>\n",
       "    <tr>\n",
       "      <th>39751</th>\n",
       "      <td>1</td>\n",
       "      <td>0</td>\n",
       "      <td>0</td>\n",
       "      <td>2017</td>\n",
       "      <td>8</td>\n",
       "      <td>34</td>\n",
       "      <td>25</td>\n",
       "      <td>0</td>\n",
       "      <td>2</td>\n",
       "      <td>2</td>\n",
       "      <td>...</td>\n",
       "      <td>0</td>\n",
       "      <td>0</td>\n",
       "      <td>0</td>\n",
       "      <td>241.0</td>\n",
       "      <td>0</td>\n",
       "      <td>2</td>\n",
       "      <td>188.0</td>\n",
       "      <td>0</td>\n",
       "      <td>2</td>\n",
       "      <td>1</td>\n",
       "    </tr>\n",
       "    <tr>\n",
       "      <th>37420</th>\n",
       "      <td>1</td>\n",
       "      <td>0</td>\n",
       "      <td>146</td>\n",
       "      <td>2017</td>\n",
       "      <td>6</td>\n",
       "      <td>24</td>\n",
       "      <td>15</td>\n",
       "      <td>0</td>\n",
       "      <td>2</td>\n",
       "      <td>2</td>\n",
       "      <td>...</td>\n",
       "      <td>0</td>\n",
       "      <td>0</td>\n",
       "      <td>0</td>\n",
       "      <td>240.0</td>\n",
       "      <td>0</td>\n",
       "      <td>3</td>\n",
       "      <td>154.0</td>\n",
       "      <td>0</td>\n",
       "      <td>1</td>\n",
       "      <td>0</td>\n",
       "    </tr>\n",
       "    <tr>\n",
       "      <th>103406</th>\n",
       "      <td>0</td>\n",
       "      <td>0</td>\n",
       "      <td>7</td>\n",
       "      <td>2016</td>\n",
       "      <td>12</td>\n",
       "      <td>52</td>\n",
       "      <td>18</td>\n",
       "      <td>2</td>\n",
       "      <td>2</td>\n",
       "      <td>2</td>\n",
       "      <td>...</td>\n",
       "      <td>0</td>\n",
       "      <td>0</td>\n",
       "      <td>0</td>\n",
       "      <td>9.0</td>\n",
       "      <td>0</td>\n",
       "      <td>2</td>\n",
       "      <td>90.1</td>\n",
       "      <td>0</td>\n",
       "      <td>2</td>\n",
       "      <td>0</td>\n",
       "    </tr>\n",
       "    <tr>\n",
       "      <th>32371</th>\n",
       "      <td>1</td>\n",
       "      <td>0</td>\n",
       "      <td>19</td>\n",
       "      <td>2017</td>\n",
       "      <td>1</td>\n",
       "      <td>3</td>\n",
       "      <td>18</td>\n",
       "      <td>2</td>\n",
       "      <td>5</td>\n",
       "      <td>2</td>\n",
       "      <td>...</td>\n",
       "      <td>0</td>\n",
       "      <td>0</td>\n",
       "      <td>0</td>\n",
       "      <td>8.0</td>\n",
       "      <td>0</td>\n",
       "      <td>2</td>\n",
       "      <td>76.0</td>\n",
       "      <td>0</td>\n",
       "      <td>0</td>\n",
       "      <td>0</td>\n",
       "    </tr>\n",
       "  </tbody>\n",
       "</table>\n",
       "<p>5 rows × 31 columns</p>\n",
       "</div>"
      ],
      "text/plain": [
       "        hotel  is_canceled  lead_time  arrival_date_year  arrival_date_month  \\\n",
       "79740       0            0          9               2015                  10   \n",
       "39751       1            0          0               2017                   8   \n",
       "37420       1            0        146               2017                   6   \n",
       "103406      0            0          7               2016                  12   \n",
       "32371       1            0         19               2017                   1   \n",
       "\n",
       "        arrival_date_week_number  arrival_date_day_of_month  \\\n",
       "79740                         44                         31   \n",
       "39751                         34                         25   \n",
       "37420                         24                         15   \n",
       "103406                        52                         18   \n",
       "32371                          3                         18   \n",
       "\n",
       "        stays_in_weekend_nights  stays_in_week_nights  adults  ...  \\\n",
       "79740                         2                     1       2  ...   \n",
       "39751                         0                     2       2  ...   \n",
       "37420                         0                     2       2  ...   \n",
       "103406                        2                     2       2  ...   \n",
       "32371                         2                     5       2  ...   \n",
       "\n",
       "        room_type_fulfilled  booking_changes  deposit_type  agent  \\\n",
       "79740                     0                0             0    9.0   \n",
       "39751                     0                0             0  241.0   \n",
       "37420                     0                0             0  240.0   \n",
       "103406                    0                0             0    9.0   \n",
       "32371                     0                0             0    8.0   \n",
       "\n",
       "        days_in_waiting_list  customer_type    adr  \\\n",
       "79740                      0              0   87.0   \n",
       "39751                      0              2  188.0   \n",
       "37420                      0              3  154.0   \n",
       "103406                     0              2   90.1   \n",
       "32371                      0              2   76.0   \n",
       "\n",
       "        required_car_parking_spaces  total_of_special_requests  international  \n",
       "79740                             0                          1              0  \n",
       "39751                             0                          2              1  \n",
       "37420                             0                          1              0  \n",
       "103406                            0                          2              0  \n",
       "32371                             0                          0              0  \n",
       "\n",
       "[5 rows x 31 columns]"
      ]
     },
     "execution_count": 17,
     "metadata": {},
     "output_type": "execute_result"
    }
   ],
   "source": [
    "# Stratifying sample\n",
    "stratified_sample = bookings_df.groupby('is_canceled').apply(\n",
    "    lambda x: x.sample(frac=1)\n",
    ")\n",
    "\n",
    "stratified_sample = stratified_sample.droplevel(0)\n",
    "\n",
    "stratified_sample.head()"
   ]
  },
  {
   "cell_type": "code",
   "execution_count": 18,
   "metadata": {},
   "outputs": [
    {
     "name": "stdout",
     "output_type": "stream",
     "text": [
      "<class 'pandas.core.frame.DataFrame'>\n",
      "Int64Index: 103050 entries, 79740 to 62925\n",
      "Data columns (total 31 columns):\n",
      " #   Column                          Non-Null Count   Dtype  \n",
      "---  ------                          --------------   -----  \n",
      " 0   hotel                           103050 non-null  int64  \n",
      " 1   is_canceled                     103050 non-null  int64  \n",
      " 2   lead_time                       103050 non-null  int64  \n",
      " 3   arrival_date_year               103050 non-null  int64  \n",
      " 4   arrival_date_month              103050 non-null  int64  \n",
      " 5   arrival_date_week_number        103050 non-null  int64  \n",
      " 6   arrival_date_day_of_month       103050 non-null  int64  \n",
      " 7   stays_in_weekend_nights         103050 non-null  int64  \n",
      " 8   stays_in_week_nights            103050 non-null  int64  \n",
      " 9   adults                          103050 non-null  int64  \n",
      " 10  children                        103050 non-null  int64  \n",
      " 11  babies                          103050 non-null  int64  \n",
      " 12  meal                            103050 non-null  int64  \n",
      " 13  country                         103050 non-null  int64  \n",
      " 14  market_segment                  103050 non-null  int64  \n",
      " 15  distribution_channel            103050 non-null  int64  \n",
      " 16  is_repeated_guest               103050 non-null  int64  \n",
      " 17  previous_cancellations          103050 non-null  int64  \n",
      " 18  previous_bookings_not_canceled  103050 non-null  int64  \n",
      " 19  reserved_room_type              103050 non-null  int64  \n",
      " 20  assigned_room_type              103050 non-null  int64  \n",
      " 21  room_type_fulfilled             103050 non-null  int64  \n",
      " 22  booking_changes                 103050 non-null  int64  \n",
      " 23  deposit_type                    103050 non-null  int64  \n",
      " 24  agent                           103050 non-null  float64\n",
      " 25  days_in_waiting_list            103050 non-null  int64  \n",
      " 26  customer_type                   103050 non-null  int64  \n",
      " 27  adr                             103050 non-null  float64\n",
      " 28  required_car_parking_spaces     103050 non-null  int64  \n",
      " 29  total_of_special_requests       103050 non-null  int64  \n",
      " 30  international                   103050 non-null  int64  \n",
      "dtypes: float64(2), int64(29)\n",
      "memory usage: 25.2 MB\n"
     ]
    }
   ],
   "source": [
    "# Stratified data info\n",
    "stratified_sample.info()"
   ]
  },
  {
   "cell_type": "code",
   "execution_count": 19,
   "metadata": {},
   "outputs": [
    {
     "data": {
      "text/plain": [
       "0    61.0\n",
       "1    39.0\n",
       "Name: Stratified, dtype: float64"
      ]
     },
     "execution_count": 19,
     "metadata": {},
     "output_type": "execute_result"
    }
   ],
   "source": [
    "# Ratio of selected items by is_canceled\n",
    "stratified_ratio = stratified_sample['is_canceled'].value_counts(normalize=True)\n",
    "\n",
    "# Convert to percentage\n",
    "stratified_ratio = stratified_ratio.round(4)*100\n",
    "\n",
    "# We did stratified sampling. So give it proper name\n",
    "stratified_ratio.name = 'Stratified'\n",
    "\n",
    "# Proving the stratified ratio matches the whole dataset ratio (is_canceled_ratios)\n",
    "stratified_ratio.head()"
   ]
  },
  {
   "cell_type": "code",
   "execution_count": 20,
   "metadata": {},
   "outputs": [],
   "source": [
    "# Separate the features from the target \"is_canceled\"\n",
    "y = stratified_sample[\"is_canceled\"]\n",
    "X = stratified_sample.drop(columns=\"is_canceled\")"
   ]
  },
  {
   "cell_type": "code",
   "execution_count": 21,
   "metadata": {},
   "outputs": [],
   "source": [
    "# Splitting the data\n",
    "X_train, X_test, y_train, y_test = train_test_split(X, \n",
    "                                                    y, \n",
    "                                                    random_state=1, \n",
    "                                                    stratify=y)"
   ]
  },
  {
   "cell_type": "markdown",
   "metadata": {},
   "source": [
    "# Logistic Regression"
   ]
  },
  {
   "cell_type": "code",
   "execution_count": 22,
   "metadata": {},
   "outputs": [
    {
     "data": {
      "text/html": [
       "<style>#sk-container-id-1 {color: black;background-color: white;}#sk-container-id-1 pre{padding: 0;}#sk-container-id-1 div.sk-toggleable {background-color: white;}#sk-container-id-1 label.sk-toggleable__label {cursor: pointer;display: block;width: 100%;margin-bottom: 0;padding: 0.3em;box-sizing: border-box;text-align: center;}#sk-container-id-1 label.sk-toggleable__label-arrow:before {content: \"▸\";float: left;margin-right: 0.25em;color: #696969;}#sk-container-id-1 label.sk-toggleable__label-arrow:hover:before {color: black;}#sk-container-id-1 div.sk-estimator:hover label.sk-toggleable__label-arrow:before {color: black;}#sk-container-id-1 div.sk-toggleable__content {max-height: 0;max-width: 0;overflow: hidden;text-align: left;background-color: #f0f8ff;}#sk-container-id-1 div.sk-toggleable__content pre {margin: 0.2em;color: black;border-radius: 0.25em;background-color: #f0f8ff;}#sk-container-id-1 input.sk-toggleable__control:checked~div.sk-toggleable__content {max-height: 200px;max-width: 100%;overflow: auto;}#sk-container-id-1 input.sk-toggleable__control:checked~label.sk-toggleable__label-arrow:before {content: \"▾\";}#sk-container-id-1 div.sk-estimator input.sk-toggleable__control:checked~label.sk-toggleable__label {background-color: #d4ebff;}#sk-container-id-1 div.sk-label input.sk-toggleable__control:checked~label.sk-toggleable__label {background-color: #d4ebff;}#sk-container-id-1 input.sk-hidden--visually {border: 0;clip: rect(1px 1px 1px 1px);clip: rect(1px, 1px, 1px, 1px);height: 1px;margin: -1px;overflow: hidden;padding: 0;position: absolute;width: 1px;}#sk-container-id-1 div.sk-estimator {font-family: monospace;background-color: #f0f8ff;border: 1px dotted black;border-radius: 0.25em;box-sizing: border-box;margin-bottom: 0.5em;}#sk-container-id-1 div.sk-estimator:hover {background-color: #d4ebff;}#sk-container-id-1 div.sk-parallel-item::after {content: \"\";width: 100%;border-bottom: 1px solid gray;flex-grow: 1;}#sk-container-id-1 div.sk-label:hover label.sk-toggleable__label {background-color: #d4ebff;}#sk-container-id-1 div.sk-serial::before {content: \"\";position: absolute;border-left: 1px solid gray;box-sizing: border-box;top: 0;bottom: 0;left: 50%;z-index: 0;}#sk-container-id-1 div.sk-serial {display: flex;flex-direction: column;align-items: center;background-color: white;padding-right: 0.2em;padding-left: 0.2em;position: relative;}#sk-container-id-1 div.sk-item {position: relative;z-index: 1;}#sk-container-id-1 div.sk-parallel {display: flex;align-items: stretch;justify-content: center;background-color: white;position: relative;}#sk-container-id-1 div.sk-item::before, #sk-container-id-1 div.sk-parallel-item::before {content: \"\";position: absolute;border-left: 1px solid gray;box-sizing: border-box;top: 0;bottom: 0;left: 50%;z-index: -1;}#sk-container-id-1 div.sk-parallel-item {display: flex;flex-direction: column;z-index: 1;position: relative;background-color: white;}#sk-container-id-1 div.sk-parallel-item:first-child::after {align-self: flex-end;width: 50%;}#sk-container-id-1 div.sk-parallel-item:last-child::after {align-self: flex-start;width: 50%;}#sk-container-id-1 div.sk-parallel-item:only-child::after {width: 0;}#sk-container-id-1 div.sk-dashed-wrapped {border: 1px dashed gray;margin: 0 0.4em 0.5em 0.4em;box-sizing: border-box;padding-bottom: 0.4em;background-color: white;}#sk-container-id-1 div.sk-label label {font-family: monospace;font-weight: bold;display: inline-block;line-height: 1.2em;}#sk-container-id-1 div.sk-label-container {text-align: center;}#sk-container-id-1 div.sk-container {/* jupyter's `normalize.less` sets `[hidden] { display: none; }` but bootstrap.min.css set `[hidden] { display: none !important; }` so we also need the `!important` here to be able to override the default hidden behavior on the sphinx rendered scikit-learn.org. See: https://github.com/scikit-learn/scikit-learn/issues/21755 */display: inline-block !important;position: relative;}#sk-container-id-1 div.sk-text-repr-fallback {display: none;}</style><div id=\"sk-container-id-1\" class=\"sk-top-container\"><div class=\"sk-text-repr-fallback\"><pre>LogisticRegression(max_iter=10000, random_state=1)</pre><b>In a Jupyter environment, please rerun this cell to show the HTML representation or trust the notebook. <br />On GitHub, the HTML representation is unable to render, please try loading this page with nbviewer.org.</b></div><div class=\"sk-container\" hidden><div class=\"sk-item\"><div class=\"sk-estimator sk-toggleable\"><input class=\"sk-toggleable__control sk-hidden--visually\" id=\"sk-estimator-id-1\" type=\"checkbox\" checked><label for=\"sk-estimator-id-1\" class=\"sk-toggleable__label sk-toggleable__label-arrow\">LogisticRegression</label><div class=\"sk-toggleable__content\"><pre>LogisticRegression(max_iter=10000, random_state=1)</pre></div></div></div></div></div>"
      ],
      "text/plain": [
       "LogisticRegression(max_iter=10000, random_state=1)"
      ]
     },
     "execution_count": 22,
     "metadata": {},
     "output_type": "execute_result"
    }
   ],
   "source": [
    "# Creating logistic regression model called \"model_lr\"\n",
    "model_lr = LogisticRegression(solver='lbfgs', random_state=1, max_iter=10000,)\n",
    "model_lr"
   ]
  },
  {
   "cell_type": "code",
   "execution_count": 23,
   "metadata": {},
   "outputs": [
    {
     "data": {
      "text/html": [
       "<style>#sk-container-id-2 {color: black;background-color: white;}#sk-container-id-2 pre{padding: 0;}#sk-container-id-2 div.sk-toggleable {background-color: white;}#sk-container-id-2 label.sk-toggleable__label {cursor: pointer;display: block;width: 100%;margin-bottom: 0;padding: 0.3em;box-sizing: border-box;text-align: center;}#sk-container-id-2 label.sk-toggleable__label-arrow:before {content: \"▸\";float: left;margin-right: 0.25em;color: #696969;}#sk-container-id-2 label.sk-toggleable__label-arrow:hover:before {color: black;}#sk-container-id-2 div.sk-estimator:hover label.sk-toggleable__label-arrow:before {color: black;}#sk-container-id-2 div.sk-toggleable__content {max-height: 0;max-width: 0;overflow: hidden;text-align: left;background-color: #f0f8ff;}#sk-container-id-2 div.sk-toggleable__content pre {margin: 0.2em;color: black;border-radius: 0.25em;background-color: #f0f8ff;}#sk-container-id-2 input.sk-toggleable__control:checked~div.sk-toggleable__content {max-height: 200px;max-width: 100%;overflow: auto;}#sk-container-id-2 input.sk-toggleable__control:checked~label.sk-toggleable__label-arrow:before {content: \"▾\";}#sk-container-id-2 div.sk-estimator input.sk-toggleable__control:checked~label.sk-toggleable__label {background-color: #d4ebff;}#sk-container-id-2 div.sk-label input.sk-toggleable__control:checked~label.sk-toggleable__label {background-color: #d4ebff;}#sk-container-id-2 input.sk-hidden--visually {border: 0;clip: rect(1px 1px 1px 1px);clip: rect(1px, 1px, 1px, 1px);height: 1px;margin: -1px;overflow: hidden;padding: 0;position: absolute;width: 1px;}#sk-container-id-2 div.sk-estimator {font-family: monospace;background-color: #f0f8ff;border: 1px dotted black;border-radius: 0.25em;box-sizing: border-box;margin-bottom: 0.5em;}#sk-container-id-2 div.sk-estimator:hover {background-color: #d4ebff;}#sk-container-id-2 div.sk-parallel-item::after {content: \"\";width: 100%;border-bottom: 1px solid gray;flex-grow: 1;}#sk-container-id-2 div.sk-label:hover label.sk-toggleable__label {background-color: #d4ebff;}#sk-container-id-2 div.sk-serial::before {content: \"\";position: absolute;border-left: 1px solid gray;box-sizing: border-box;top: 0;bottom: 0;left: 50%;z-index: 0;}#sk-container-id-2 div.sk-serial {display: flex;flex-direction: column;align-items: center;background-color: white;padding-right: 0.2em;padding-left: 0.2em;position: relative;}#sk-container-id-2 div.sk-item {position: relative;z-index: 1;}#sk-container-id-2 div.sk-parallel {display: flex;align-items: stretch;justify-content: center;background-color: white;position: relative;}#sk-container-id-2 div.sk-item::before, #sk-container-id-2 div.sk-parallel-item::before {content: \"\";position: absolute;border-left: 1px solid gray;box-sizing: border-box;top: 0;bottom: 0;left: 50%;z-index: -1;}#sk-container-id-2 div.sk-parallel-item {display: flex;flex-direction: column;z-index: 1;position: relative;background-color: white;}#sk-container-id-2 div.sk-parallel-item:first-child::after {align-self: flex-end;width: 50%;}#sk-container-id-2 div.sk-parallel-item:last-child::after {align-self: flex-start;width: 50%;}#sk-container-id-2 div.sk-parallel-item:only-child::after {width: 0;}#sk-container-id-2 div.sk-dashed-wrapped {border: 1px dashed gray;margin: 0 0.4em 0.5em 0.4em;box-sizing: border-box;padding-bottom: 0.4em;background-color: white;}#sk-container-id-2 div.sk-label label {font-family: monospace;font-weight: bold;display: inline-block;line-height: 1.2em;}#sk-container-id-2 div.sk-label-container {text-align: center;}#sk-container-id-2 div.sk-container {/* jupyter's `normalize.less` sets `[hidden] { display: none; }` but bootstrap.min.css set `[hidden] { display: none !important; }` so we also need the `!important` here to be able to override the default hidden behavior on the sphinx rendered scikit-learn.org. See: https://github.com/scikit-learn/scikit-learn/issues/21755 */display: inline-block !important;position: relative;}#sk-container-id-2 div.sk-text-repr-fallback {display: none;}</style><div id=\"sk-container-id-2\" class=\"sk-top-container\"><div class=\"sk-text-repr-fallback\"><pre>LogisticRegression(max_iter=10000, random_state=1)</pre><b>In a Jupyter environment, please rerun this cell to show the HTML representation or trust the notebook. <br />On GitHub, the HTML representation is unable to render, please try loading this page with nbviewer.org.</b></div><div class=\"sk-container\" hidden><div class=\"sk-item\"><div class=\"sk-estimator sk-toggleable\"><input class=\"sk-toggleable__control sk-hidden--visually\" id=\"sk-estimator-id-2\" type=\"checkbox\" checked><label for=\"sk-estimator-id-2\" class=\"sk-toggleable__label sk-toggleable__label-arrow\">LogisticRegression</label><div class=\"sk-toggleable__content\"><pre>LogisticRegression(max_iter=10000, random_state=1)</pre></div></div></div></div></div>"
      ],
      "text/plain": [
       "LogisticRegression(max_iter=10000, random_state=1)"
      ]
     },
     "execution_count": 23,
     "metadata": {},
     "output_type": "execute_result"
    }
   ],
   "source": [
    "# Train the data\n",
    "model_lr.fit(X_train, y_train)"
   ]
  },
  {
   "cell_type": "code",
   "execution_count": 24,
   "metadata": {},
   "outputs": [
    {
     "data": {
      "text/html": [
       "<div>\n",
       "<style scoped>\n",
       "    .dataframe tbody tr th:only-of-type {\n",
       "        vertical-align: middle;\n",
       "    }\n",
       "\n",
       "    .dataframe tbody tr th {\n",
       "        vertical-align: top;\n",
       "    }\n",
       "\n",
       "    .dataframe thead th {\n",
       "        text-align: right;\n",
       "    }\n",
       "</style>\n",
       "<table border=\"1\" class=\"dataframe\">\n",
       "  <thead>\n",
       "    <tr style=\"text-align: right;\">\n",
       "      <th></th>\n",
       "      <th>Prediction</th>\n",
       "      <th>Actual</th>\n",
       "    </tr>\n",
       "  </thead>\n",
       "  <tbody>\n",
       "    <tr>\n",
       "      <th>101798</th>\n",
       "      <td>0</td>\n",
       "      <td>0</td>\n",
       "    </tr>\n",
       "    <tr>\n",
       "      <th>55540</th>\n",
       "      <td>0</td>\n",
       "      <td>1</td>\n",
       "    </tr>\n",
       "    <tr>\n",
       "      <th>11222</th>\n",
       "      <td>0</td>\n",
       "      <td>1</td>\n",
       "    </tr>\n",
       "    <tr>\n",
       "      <th>37359</th>\n",
       "      <td>0</td>\n",
       "      <td>0</td>\n",
       "    </tr>\n",
       "    <tr>\n",
       "      <th>80705</th>\n",
       "      <td>0</td>\n",
       "      <td>0</td>\n",
       "    </tr>\n",
       "    <tr>\n",
       "      <th>...</th>\n",
       "      <td>...</td>\n",
       "      <td>...</td>\n",
       "    </tr>\n",
       "    <tr>\n",
       "      <th>96549</th>\n",
       "      <td>0</td>\n",
       "      <td>0</td>\n",
       "    </tr>\n",
       "    <tr>\n",
       "      <th>109875</th>\n",
       "      <td>0</td>\n",
       "      <td>0</td>\n",
       "    </tr>\n",
       "    <tr>\n",
       "      <th>88184</th>\n",
       "      <td>0</td>\n",
       "      <td>0</td>\n",
       "    </tr>\n",
       "    <tr>\n",
       "      <th>83870</th>\n",
       "      <td>1</td>\n",
       "      <td>0</td>\n",
       "    </tr>\n",
       "    <tr>\n",
       "      <th>58455</th>\n",
       "      <td>1</td>\n",
       "      <td>1</td>\n",
       "    </tr>\n",
       "  </tbody>\n",
       "</table>\n",
       "<p>25763 rows × 2 columns</p>\n",
       "</div>"
      ],
      "text/plain": [
       "        Prediction  Actual\n",
       "101798           0       0\n",
       "55540            0       1\n",
       "11222            0       1\n",
       "37359            0       0\n",
       "80705            0       0\n",
       "...            ...     ...\n",
       "96549            0       0\n",
       "109875           0       0\n",
       "88184            0       0\n",
       "83870            1       0\n",
       "58455            1       1\n",
       "\n",
       "[25763 rows x 2 columns]"
      ]
     },
     "execution_count": 24,
     "metadata": {},
     "output_type": "execute_result"
    }
   ],
   "source": [
    "# Make predictions\n",
    "predictions_lr = model_lr.predict(X_test)\n",
    "pd.DataFrame({\"Prediction\": predictions_lr, \"Actual\": y_test})"
   ]
  },
  {
   "cell_type": "code",
   "execution_count": 25,
   "metadata": {},
   "outputs": [],
   "source": [
    "# Calculating the confusion matrix\n",
    "cm = confusion_matrix(y_test, predictions_lr)\n",
    "cm_df = pd.DataFrame(\n",
    "    cm, index=[\"Actual 0\", \"Actual 1\"], columns=[\"Predicted 0\", \"Predicted 1\"]\n",
    ")\n",
    "\n",
    "# Calculating the accuracy score\n",
    "acc_score = accuracy_score(y_test, predictions_lr)"
   ]
  },
  {
   "cell_type": "code",
   "execution_count": 26,
   "metadata": {},
   "outputs": [
    {
     "name": "stdout",
     "output_type": "stream",
     "text": [
      "Confusion Matrix\n"
     ]
    },
    {
     "data": {
      "text/html": [
       "<div>\n",
       "<style scoped>\n",
       "    .dataframe tbody tr th:only-of-type {\n",
       "        vertical-align: middle;\n",
       "    }\n",
       "\n",
       "    .dataframe tbody tr th {\n",
       "        vertical-align: top;\n",
       "    }\n",
       "\n",
       "    .dataframe thead th {\n",
       "        text-align: right;\n",
       "    }\n",
       "</style>\n",
       "<table border=\"1\" class=\"dataframe\">\n",
       "  <thead>\n",
       "    <tr style=\"text-align: right;\">\n",
       "      <th></th>\n",
       "      <th>Predicted 0</th>\n",
       "      <th>Predicted 1</th>\n",
       "    </tr>\n",
       "  </thead>\n",
       "  <tbody>\n",
       "    <tr>\n",
       "      <th>Actual 0</th>\n",
       "      <td>14162</td>\n",
       "      <td>1552</td>\n",
       "    </tr>\n",
       "    <tr>\n",
       "      <th>Actual 1</th>\n",
       "      <td>3726</td>\n",
       "      <td>6323</td>\n",
       "    </tr>\n",
       "  </tbody>\n",
       "</table>\n",
       "</div>"
      ],
      "text/plain": [
       "          Predicted 0  Predicted 1\n",
       "Actual 0        14162         1552\n",
       "Actual 1         3726         6323"
      ]
     },
     "metadata": {},
     "output_type": "display_data"
    },
    {
     "name": "stdout",
     "output_type": "stream",
     "text": [
      "Accuracy Score : 0.7951325544385359\n",
      "Classification Report\n",
      "              precision    recall  f1-score   support\n",
      "\n",
      "           0       0.79      0.90      0.84     15714\n",
      "           1       0.80      0.63      0.71     10049\n",
      "\n",
      "    accuracy                           0.80     25763\n",
      "   macro avg       0.80      0.77      0.77     25763\n",
      "weighted avg       0.80      0.80      0.79     25763\n",
      "\n"
     ]
    }
   ],
   "source": [
    "# Displaying results\n",
    "print(\"Confusion Matrix\")\n",
    "display(cm_df)\n",
    "print(f\"Accuracy Score : {acc_score}\")\n",
    "print(\"Classification Report\")\n",
    "print(classification_report(y_test, predictions_lr))"
   ]
  },
  {
   "cell_type": "code",
   "execution_count": 27,
   "metadata": {},
   "outputs": [
    {
     "data": {
      "text/html": [
       "<div>\n",
       "<style scoped>\n",
       "    .dataframe tbody tr th:only-of-type {\n",
       "        vertical-align: middle;\n",
       "    }\n",
       "\n",
       "    .dataframe tbody tr th {\n",
       "        vertical-align: top;\n",
       "    }\n",
       "\n",
       "    .dataframe thead th {\n",
       "        text-align: right;\n",
       "    }\n",
       "</style>\n",
       "<table border=\"1\" class=\"dataframe\">\n",
       "  <thead>\n",
       "    <tr style=\"text-align: right;\">\n",
       "      <th></th>\n",
       "      <th>Model</th>\n",
       "      <th>Accuracy Score</th>\n",
       "      <th>F1 score</th>\n",
       "      <th>Precision</th>\n",
       "      <th>Recall</th>\n",
       "    </tr>\n",
       "  </thead>\n",
       "  <tbody>\n",
       "    <tr>\n",
       "      <th>0</th>\n",
       "      <td>Logistic regression</td>\n",
       "      <td>0.795133</td>\n",
       "      <td>0.705534</td>\n",
       "      <td>0.802921</td>\n",
       "      <td>0.629217</td>\n",
       "    </tr>\n",
       "  </tbody>\n",
       "</table>\n",
       "</div>"
      ],
      "text/plain": [
       "                 Model  Accuracy Score  F1 score  Precision    Recall\n",
       "0  Logistic regression        0.795133  0.705534   0.802921  0.629217"
      ]
     },
     "execution_count": 27,
     "metadata": {},
     "output_type": "execute_result"
    }
   ],
   "source": [
    "# Displaying results\n",
    "lr_acc = accuracy_score(y_test,predictions_lr)\n",
    "lr_f1 = f1_score(y_test,predictions_lr)\n",
    "lr_precision = precision_score(y_test,predictions_lr)\n",
    "lr_recall = recall_score(y_test,predictions_lr)\n",
    "lr_results = pd.DataFrame([['Logistic regression', lr_acc, lr_f1, lr_precision, lr_recall]],\n",
    "                     columns =  ['Model','Accuracy Score','F1 score','Precision','Recall'])\n",
    "lr_results"
   ]
  },
  {
   "cell_type": "markdown",
   "metadata": {},
   "source": [
    "# Random Forest"
   ]
  },
  {
   "cell_type": "code",
   "execution_count": 28,
   "metadata": {},
   "outputs": [],
   "source": [
    "# Creating StandardScaler instance\n",
    "scaler = StandardScaler()"
   ]
  },
  {
   "cell_type": "code",
   "execution_count": 29,
   "metadata": {},
   "outputs": [],
   "source": [
    "# Fitting Standard Scaller\n",
    "X_scaler = scaler.fit(X_train)"
   ]
  },
  {
   "cell_type": "code",
   "execution_count": 30,
   "metadata": {},
   "outputs": [],
   "source": [
    "# Scaling data\n",
    "X_train_scaled = X_scaler.transform(X_train)\n",
    "X_test_scaled = X_scaler.transform(X_test)"
   ]
  },
  {
   "cell_type": "code",
   "execution_count": 31,
   "metadata": {},
   "outputs": [],
   "source": [
    "# Create a random forest classifier\n",
    "model_rf = RandomForestClassifier(n_estimators=500, random_state=78)"
   ]
  },
  {
   "cell_type": "code",
   "execution_count": 32,
   "metadata": {},
   "outputs": [],
   "source": [
    "# Fitting the model\n",
    "model_rf = model_rf.fit(X_train_scaled, y_train)"
   ]
  },
  {
   "cell_type": "code",
   "execution_count": 33,
   "metadata": {},
   "outputs": [],
   "source": [
    "# Making predictions using the testing data\n",
    "predictions_rf = model_rf.predict(X_test_scaled)"
   ]
  },
  {
   "cell_type": "code",
   "execution_count": 34,
   "metadata": {},
   "outputs": [],
   "source": [
    "# Calculating the confusion matrix\n",
    "cm = confusion_matrix(y_test, predictions_rf)\n",
    "cm_df = pd.DataFrame(\n",
    "    cm, index=[\"Actual 0\", \"Actual 1\"], columns=[\"Predicted 0\", \"Predicted 1\"]\n",
    ")\n",
    "\n",
    "# Calculating the accuracy score\n",
    "acc_score = accuracy_score(y_test, predictions_rf)"
   ]
  },
  {
   "cell_type": "code",
   "execution_count": 35,
   "metadata": {},
   "outputs": [
    {
     "name": "stdout",
     "output_type": "stream",
     "text": [
      "Confusion Matrix\n"
     ]
    },
    {
     "data": {
      "text/html": [
       "<div>\n",
       "<style scoped>\n",
       "    .dataframe tbody tr th:only-of-type {\n",
       "        vertical-align: middle;\n",
       "    }\n",
       "\n",
       "    .dataframe tbody tr th {\n",
       "        vertical-align: top;\n",
       "    }\n",
       "\n",
       "    .dataframe thead th {\n",
       "        text-align: right;\n",
       "    }\n",
       "</style>\n",
       "<table border=\"1\" class=\"dataframe\">\n",
       "  <thead>\n",
       "    <tr style=\"text-align: right;\">\n",
       "      <th></th>\n",
       "      <th>Predicted 0</th>\n",
       "      <th>Predicted 1</th>\n",
       "    </tr>\n",
       "  </thead>\n",
       "  <tbody>\n",
       "    <tr>\n",
       "      <th>Actual 0</th>\n",
       "      <td>14548</td>\n",
       "      <td>1166</td>\n",
       "    </tr>\n",
       "    <tr>\n",
       "      <th>Actual 1</th>\n",
       "      <td>1588</td>\n",
       "      <td>8461</td>\n",
       "    </tr>\n",
       "  </tbody>\n",
       "</table>\n",
       "</div>"
      ],
      "text/plain": [
       "          Predicted 0  Predicted 1\n",
       "Actual 0        14548         1166\n",
       "Actual 1         1588         8461"
      ]
     },
     "metadata": {},
     "output_type": "display_data"
    },
    {
     "name": "stdout",
     "output_type": "stream",
     "text": [
      "Accuracy Score : 0.8931025113534914\n",
      "Classification Report\n",
      "              precision    recall  f1-score   support\n",
      "\n",
      "           0       0.90      0.93      0.91     15714\n",
      "           1       0.88      0.84      0.86     10049\n",
      "\n",
      "    accuracy                           0.89     25763\n",
      "   macro avg       0.89      0.88      0.89     25763\n",
      "weighted avg       0.89      0.89      0.89     25763\n",
      "\n"
     ]
    }
   ],
   "source": [
    "# Displaying results\n",
    "print(\"Confusion Matrix\")\n",
    "display(cm_df)\n",
    "print(f\"Accuracy Score : {acc_score}\")\n",
    "print(\"Classification Report\")\n",
    "print(classification_report(y_test, predictions_rf))"
   ]
  },
  {
   "cell_type": "code",
   "execution_count": 36,
   "metadata": {},
   "outputs": [
    {
     "data": {
      "text/html": [
       "<div>\n",
       "<style scoped>\n",
       "    .dataframe tbody tr th:only-of-type {\n",
       "        vertical-align: middle;\n",
       "    }\n",
       "\n",
       "    .dataframe tbody tr th {\n",
       "        vertical-align: top;\n",
       "    }\n",
       "\n",
       "    .dataframe thead th {\n",
       "        text-align: right;\n",
       "    }\n",
       "</style>\n",
       "<table border=\"1\" class=\"dataframe\">\n",
       "  <thead>\n",
       "    <tr style=\"text-align: right;\">\n",
       "      <th></th>\n",
       "      <th>Model</th>\n",
       "      <th>Accuracy Score</th>\n",
       "      <th>F1 score</th>\n",
       "      <th>Precision</th>\n",
       "      <th>Recall</th>\n",
       "    </tr>\n",
       "  </thead>\n",
       "  <tbody>\n",
       "    <tr>\n",
       "      <th>0</th>\n",
       "      <td>Random Forest</td>\n",
       "      <td>0.893103</td>\n",
       "      <td>0.860033</td>\n",
       "      <td>0.878882</td>\n",
       "      <td>0.841974</td>\n",
       "    </tr>\n",
       "  </tbody>\n",
       "</table>\n",
       "</div>"
      ],
      "text/plain": [
       "           Model  Accuracy Score  F1 score  Precision    Recall\n",
       "0  Random Forest        0.893103  0.860033   0.878882  0.841974"
      ]
     },
     "execution_count": 36,
     "metadata": {},
     "output_type": "execute_result"
    }
   ],
   "source": [
    "# Displaying results\n",
    "rf_acc = accuracy_score(y_test,predictions_rf)\n",
    "rf_f1 = f1_score(y_test,predictions_rf)\n",
    "rf_precision = precision_score(y_test,predictions_rf)\n",
    "rf_recall = recall_score(y_test,predictions_rf)\n",
    "rf_results = pd.DataFrame([['Random Forest', rf_acc, rf_f1, rf_precision, rf_recall]],\n",
    "                     columns =  ['Model','Accuracy Score','F1 score','Precision','Recall'])\n",
    "rf_results"
   ]
  },
  {
   "cell_type": "code",
   "execution_count": 37,
   "metadata": {},
   "outputs": [
    {
     "data": {
      "text/plain": [
       "[(0.11677427485218572, 'lead_time'),\n",
       " (0.09624785879594805, 'deposit_type'),\n",
       " (0.07974558901116295, 'country'),\n",
       " (0.0722425782254081, 'adr'),\n",
       " (0.06431713224541324, 'agent'),\n",
       " (0.06184032903496265, 'total_of_special_requests'),\n",
       " (0.05657450030059793, 'international'),\n",
       " (0.051811839720693746, 'arrival_date_day_of_month'),\n",
       " (0.048242675666488946, 'arrival_date_week_number'),\n",
       " (0.040295901552266936, 'market_segment'),\n",
       " (0.034441661454901684, 'stays_in_week_nights'),\n",
       " (0.03080477145422459, 'previous_cancellations'),\n",
       " (0.030122428086360713, 'room_type_fulfilled'),\n",
       " (0.027974140075255685, 'arrival_date_month'),\n",
       " (0.02616862918149538, 'arrival_date_year'),\n",
       " (0.023558909603685844, 'customer_type'),\n",
       " (0.02275896409571497, 'required_car_parking_spaces'),\n",
       " (0.022269271146039667, 'stays_in_weekend_nights'),\n",
       " (0.018048317713758803, 'booking_changes'),\n",
       " (0.01741675083268973, 'assigned_room_type'),\n",
       " (0.011692768080148516, 'adults'),\n",
       " (0.011622105028044071, 'meal'),\n",
       " (0.011179243890769842, 'reserved_room_type'),\n",
       " (0.007582930258426346, 'hotel'),\n",
       " (0.0059474019892332705, 'children'),\n",
       " (0.00468376932348733, 'distribution_channel'),\n",
       " (0.0019341677220503855, 'days_in_waiting_list'),\n",
       " (0.0017371241550810798, 'previous_bookings_not_canceled'),\n",
       " (0.0011587049435022353, 'is_repeated_guest'),\n",
       " (0.0008052615600015619, 'babies')]"
      ]
     },
     "execution_count": 37,
     "metadata": {},
     "output_type": "execute_result"
    }
   ],
   "source": [
    "# Random Forests in sklearn will automatically calculate feature importance\n",
    "importances = model_rf.feature_importances_\n",
    "# We can sort the features by their importance\n",
    "sorted(zip(model_rf.feature_importances_, X.columns), reverse=True)"
   ]
  },
  {
   "cell_type": "code",
   "execution_count": 38,
   "metadata": {},
   "outputs": [
    {
     "data": {
      "text/plain": [
       "<Axes: title={'center': 'Random Forest Features Importances'}, ylabel='1'>"
      ]
     },
     "execution_count": 38,
     "metadata": {},
     "output_type": "execute_result"
    },
    {
     "data": {
      "image/png": "[encoded data removed]",
      "text/plain": [
       "<Figure size 640x480 with 1 Axes>"
      ]
     },
     "metadata": {},
     "output_type": "display_data"
    }
   ],
   "source": [
    "# Visualize the features by importance\n",
    "rf_importances_df = pd.DataFrame(sorted(zip(model_rf.feature_importances_, X.columns), reverse=True))\n",
    "rf_importances_df.set_index(rf_importances_df[1], inplace=True)\n",
    "rf_importances_df.drop(columns=1, inplace=True)\n",
    "rf_importances_df.rename(columns={0: 'Feature Importances'}, inplace=True)\n",
    "rf_importances_sorted = rf_importances_df[:10].sort_values(by='Feature Importances')\n",
    "rf_importances_sorted.plot(kind='barh', color='lightgreen', title= 'Random Forest Features Importances', legend=False)"
   ]
  },
  {
   "cell_type": "markdown",
   "metadata": {},
   "source": [
    "# Decision Tree"
   ]
  },
  {
   "cell_type": "code",
   "execution_count": 39,
   "metadata": {},
   "outputs": [],
   "source": [
    "# Creating the decision tree classifier instance\n",
    "model_dt = tree.DecisionTreeClassifier()"
   ]
  },
  {
   "cell_type": "code",
   "execution_count": 40,
   "metadata": {},
   "outputs": [],
   "source": [
    "# Fitting the model\n",
    "model_dt = model_dt.fit(X_train_scaled, y_train)"
   ]
  },
  {
   "cell_type": "code",
   "execution_count": 41,
   "metadata": {},
   "outputs": [],
   "source": [
    "# Making predictions using the testing data\n",
    "predictions_dt = model_dt.predict(X_test_scaled)"
   ]
  },
  {
   "cell_type": "code",
   "execution_count": 42,
   "metadata": {},
   "outputs": [],
   "source": [
    "# Calculating the confusion matrix\n",
    "cm = confusion_matrix(y_test, predictions_dt)\n",
    "cm_df = pd.DataFrame(\n",
    "    cm, index=[\"Actual 0\", \"Actual 1\"], columns=[\"Predicted 0\", \"Predicted 1\"]\n",
    ")\n",
    "\n",
    "# Calculating the accuracy score\n",
    "acc_score = accuracy_score(y_test, predictions_dt)"
   ]
  },
  {
   "cell_type": "code",
   "execution_count": 43,
   "metadata": {},
   "outputs": [
    {
     "name": "stdout",
     "output_type": "stream",
     "text": [
      "Confusion Matrix\n"
     ]
    },
    {
     "data": {
      "text/html": [
       "<div>\n",
       "<style scoped>\n",
       "    .dataframe tbody tr th:only-of-type {\n",
       "        vertical-align: middle;\n",
       "    }\n",
       "\n",
       "    .dataframe tbody tr th {\n",
       "        vertical-align: top;\n",
       "    }\n",
       "\n",
       "    .dataframe thead th {\n",
       "        text-align: right;\n",
       "    }\n",
       "</style>\n",
       "<table border=\"1\" class=\"dataframe\">\n",
       "  <thead>\n",
       "    <tr style=\"text-align: right;\">\n",
       "      <th></th>\n",
       "      <th>Predicted 0</th>\n",
       "      <th>Predicted 1</th>\n",
       "    </tr>\n",
       "  </thead>\n",
       "  <tbody>\n",
       "    <tr>\n",
       "      <th>Actual 0</th>\n",
       "      <td>13842</td>\n",
       "      <td>1872</td>\n",
       "    </tr>\n",
       "    <tr>\n",
       "      <th>Actual 1</th>\n",
       "      <td>1786</td>\n",
       "      <td>8263</td>\n",
       "    </tr>\n",
       "  </tbody>\n",
       "</table>\n",
       "</div>"
      ],
      "text/plain": [
       "          Predicted 0  Predicted 1\n",
       "Actual 0        13842         1872\n",
       "Actual 1         1786         8263"
      ]
     },
     "metadata": {},
     "output_type": "display_data"
    },
    {
     "name": "stdout",
     "output_type": "stream",
     "text": [
      "Accuracy Score : 0.8580134301129527\n",
      "Classification Report\n",
      "              precision    recall  f1-score   support\n",
      "\n",
      "           0       0.89      0.88      0.88     15714\n",
      "           1       0.82      0.82      0.82     10049\n",
      "\n",
      "    accuracy                           0.86     25763\n",
      "   macro avg       0.85      0.85      0.85     25763\n",
      "weighted avg       0.86      0.86      0.86     25763\n",
      "\n"
     ]
    }
   ],
   "source": [
    "# Displaying results\n",
    "print(\"Confusion Matrix\")\n",
    "display(cm_df)\n",
    "print(f\"Accuracy Score : {acc_score}\")\n",
    "print(\"Classification Report\")\n",
    "print(classification_report(y_test, predictions_dt))"
   ]
  },
  {
   "cell_type": "code",
   "execution_count": 44,
   "metadata": {},
   "outputs": [
    {
     "data": {
      "text/html": [
       "<div>\n",
       "<style scoped>\n",
       "    .dataframe tbody tr th:only-of-type {\n",
       "        vertical-align: middle;\n",
       "    }\n",
       "\n",
       "    .dataframe tbody tr th {\n",
       "        vertical-align: top;\n",
       "    }\n",
       "\n",
       "    .dataframe thead th {\n",
       "        text-align: right;\n",
       "    }\n",
       "</style>\n",
       "<table border=\"1\" class=\"dataframe\">\n",
       "  <thead>\n",
       "    <tr style=\"text-align: right;\">\n",
       "      <th></th>\n",
       "      <th>Model</th>\n",
       "      <th>Accuracy Score</th>\n",
       "      <th>F1 score</th>\n",
       "      <th>Precision</th>\n",
       "      <th>Recall</th>\n",
       "    </tr>\n",
       "  </thead>\n",
       "  <tbody>\n",
       "    <tr>\n",
       "      <th>0</th>\n",
       "      <td>Desicion Tree</td>\n",
       "      <td>0.858013</td>\n",
       "      <td>0.818767</td>\n",
       "      <td>0.815294</td>\n",
       "      <td>0.822271</td>\n",
       "    </tr>\n",
       "  </tbody>\n",
       "</table>\n",
       "</div>"
      ],
      "text/plain": [
       "           Model  Accuracy Score  F1 score  Precision    Recall\n",
       "0  Desicion Tree        0.858013  0.818767   0.815294  0.822271"
      ]
     },
     "execution_count": 44,
     "metadata": {},
     "output_type": "execute_result"
    }
   ],
   "source": [
    "# Displaying results\n",
    "dt_acc = accuracy_score(y_test,predictions_dt)\n",
    "dt_f1 = f1_score(y_test,predictions_dt)\n",
    "dt_precision = precision_score(y_test,predictions_dt)\n",
    "dt_recall = recall_score(y_test,predictions_dt)\n",
    "dt_results = pd.DataFrame([['Desicion Tree', dt_acc, dt_f1, dt_precision, dt_recall]],\n",
    "                     columns =  ['Model','Accuracy Score','F1 score','Precision','Recall'])\n",
    "dt_results"
   ]
  },
  {
   "cell_type": "code",
   "execution_count": 45,
   "metadata": {},
   "outputs": [
    {
     "data": {
      "text/plain": [
       "[(0.21472917348839046, 'deposit_type'),\n",
       " (0.12315988527211719, 'lead_time'),\n",
       " (0.07065093834737354, 'international'),\n",
       " (0.06677562546248267, 'adr'),\n",
       " (0.05419552282982529, 'total_of_special_requests'),\n",
       " (0.05024406598978648, 'arrival_date_day_of_month'),\n",
       " (0.04991293889812421, 'arrival_date_week_number'),\n",
       " (0.047779310064991413, 'agent'),\n",
       " (0.03872388531116057, 'country'),\n",
       " (0.03700181592323165, 'previous_cancellations'),\n",
       " (0.031425648017643665, 'room_type_fulfilled'),\n",
       " (0.031147678414201515, 'market_segment'),\n",
       " (0.02804542742047779, 'stays_in_week_nights'),\n",
       " (0.024300556363700324, 'arrival_date_year'),\n",
       " (0.021869185635676264, 'required_car_parking_spaces'),\n",
       " (0.01869250261895557, 'stays_in_weekend_nights'),\n",
       " (0.01678935351712423, 'customer_type'),\n",
       " (0.0148307321409717, 'booking_changes'),\n",
       " (0.011595236213230858, 'arrival_date_month'),\n",
       " (0.009438187601359525, 'meal'),\n",
       " (0.008724121327619596, 'adults'),\n",
       " (0.00693598788001307, 'assigned_room_type'),\n",
       " (0.006294555483572717, 'reserved_room_type'),\n",
       " (0.004787360822520514, 'children'),\n",
       " (0.0031966864674062524, 'previous_bookings_not_canceled'),\n",
       " (0.003081948921147243, 'distribution_channel'),\n",
       " (0.0021678276599948086, 'hotel'),\n",
       " (0.001768878936062825, 'days_in_waiting_list'),\n",
       " (0.0009345469216228378, 'is_repeated_guest'),\n",
       " (0.0008004160492152033, 'babies')]"
      ]
     },
     "execution_count": 45,
     "metadata": {},
     "output_type": "execute_result"
    }
   ],
   "source": [
    "# Random Forests in sklearn will automatically calculate feature importance\n",
    "importances = model_dt.feature_importances_\n",
    "# We can sort the features by their importance\n",
    "sorted(zip(model_dt.feature_importances_, X.columns), reverse=True)"
   ]
  },
  {
   "cell_type": "code",
   "execution_count": 46,
   "metadata": {},
   "outputs": [
    {
     "data": {
      "text/plain": [
       "<Axes: title={'center': 'Decision Tree Features Importances'}, ylabel='1'>"
      ]
     },
     "execution_count": 46,
     "metadata": {},
     "output_type": "execute_result"
    },
    {
     "data": {
      "image/png": "[encoded data removed]",
      "text/plain": [
       "<Figure size 640x480 with 1 Axes>"
      ]
     },
     "metadata": {},
     "output_type": "display_data"
    }
   ],
   "source": [
    "# Visualize the features by importance\n",
    "dt_importances_df = pd.DataFrame(sorted(zip(model_dt.feature_importances_, X.columns), reverse=True))\n",
    "dt_importances_df.set_index(dt_importances_df[1], inplace=True)\n",
    "dt_importances_df.drop(columns=1, inplace=True)\n",
    "dt_importances_df.rename(columns={0: 'Feature Importances'}, inplace=True)\n",
    "dt_importances_sorted = dt_importances_df[:10].sort_values(by='Feature Importances')\n",
    "dt_importances_sorted.plot(kind='barh', color='lightgreen', title= 'Decision Tree Features Importances', legend=False)"
   ]
  },
  {
   "cell_type": "code",
   "execution_count": 47,
   "metadata": {},
   "outputs": [
    {
     "data": {
      "text/html": [
       "<div>\n",
       "<style scoped>\n",
       "    .dataframe tbody tr th:only-of-type {\n",
       "        vertical-align: middle;\n",
       "    }\n",
       "\n",
       "    .dataframe tbody tr th {\n",
       "        vertical-align: top;\n",
       "    }\n",
       "\n",
       "    .dataframe thead th {\n",
       "        text-align: right;\n",
       "    }\n",
       "</style>\n",
       "<table border=\"1\" class=\"dataframe\">\n",
       "  <thead>\n",
       "    <tr style=\"text-align: right;\">\n",
       "      <th></th>\n",
       "      <th>Accuracy Score</th>\n",
       "      <th>F1 score</th>\n",
       "      <th>Precision</th>\n",
       "      <th>Recall</th>\n",
       "    </tr>\n",
       "    <tr>\n",
       "      <th>Model</th>\n",
       "      <th></th>\n",
       "      <th></th>\n",
       "      <th></th>\n",
       "      <th></th>\n",
       "    </tr>\n",
       "  </thead>\n",
       "  <tbody>\n",
       "    <tr>\n",
       "      <th>Random Forest</th>\n",
       "      <td>0.893103</td>\n",
       "      <td>0.860033</td>\n",
       "      <td>0.878882</td>\n",
       "      <td>0.841974</td>\n",
       "    </tr>\n",
       "    <tr>\n",
       "      <th>Desicion Tree</th>\n",
       "      <td>0.858013</td>\n",
       "      <td>0.818767</td>\n",
       "      <td>0.815294</td>\n",
       "      <td>0.822271</td>\n",
       "    </tr>\n",
       "    <tr>\n",
       "      <th>Logistic regression</th>\n",
       "      <td>0.795133</td>\n",
       "      <td>0.705534</td>\n",
       "      <td>0.802921</td>\n",
       "      <td>0.629217</td>\n",
       "    </tr>\n",
       "  </tbody>\n",
       "</table>\n",
       "</div>"
      ],
      "text/plain": [
       "                     Accuracy Score  F1 score  Precision    Recall\n",
       "Model                                                             \n",
       "Random Forest              0.893103  0.860033   0.878882  0.841974\n",
       "Desicion Tree              0.858013  0.818767   0.815294  0.822271\n",
       "Logistic regression        0.795133  0.705534   0.802921  0.629217"
      ]
     },
     "execution_count": 47,
     "metadata": {},
     "output_type": "execute_result"
    }
   ],
   "source": [
    "# Display all results\n",
    "results = pd.concat([lr_results, rf_results, dt_results])\n",
    "results_sorted = results.sort_values(by='Accuracy Score', ascending=False).set_index('Model')\n",
    "results_sorted"
   ]
  }
 ],
 "metadata": {
  "kernelspec": {
   "display_name": "RUTDataViz2023",
   "language": "python",
   "name": "python3"
  },
  "language_info": {
   "codemirror_mode": {
    "name": "ipython",
    "version": 3
   },
   "file_extension": ".py",
   "mimetype": "text/x-python",
   "name": "python",
   "nbconvert_exporter": "python",
   "pygments_lexer": "ipython3",
   "version": "3.11.0"
  },
  "orig_nbformat": 4
 },
 "nbformat": 4,
 "nbformat_minor": 2
}
